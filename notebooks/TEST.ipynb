{
 "cells": [
  {
   "cell_type": "code",
   "execution_count": 1,
   "metadata": {},
   "outputs": [
    {
     "name": "stdout",
     "output_type": "stream",
     "text": [
      "/home/roland/Desktop/Stage_4A/higher-order-diffusion/src\n",
      "\u001b[0m\u001b[01;34mdatasets\u001b[0m/           data_types.py  __init__.py  \u001b[01;34m__pycache__\u001b[0m/  \u001b[01;34mtraining\u001b[0m/  \u001b[01;34mviz\u001b[0m/\n",
      "data_transforms.py  \u001b[01;34mdiffusion\u001b[0m/     \u001b[01;34mmodels\u001b[0m/      \u001b[01;34msamplers\u001b[0m/     \u001b[01;34mutils\u001b[0m/\n"
     ]
    }
   ],
   "source": [
    "%cd ../src\n",
    "%ls"
   ]
  },
  {
   "cell_type": "code",
   "execution_count": 2,
   "metadata": {},
   "outputs": [
    {
     "name": "stderr",
     "output_type": "stream",
     "text": [
      "/home/roland/miniconda3/lib/python3.10/site-packages/flax/core/frozen_dict.py:169: FutureWarning: jax.tree_util.register_keypaths is deprecated, and will be removed in a future release. Please use `register_pytree_with_keys()` instead.\n",
      "  jax.tree_util.register_keypaths(\n"
     ]
    }
   ],
   "source": [
    "import jax\n",
    "import jax.numpy as jnp\n",
    "\n",
    "import jax\n",
    "import jax.numpy as jnp\n",
    "import jax.random as random\n",
    "import flax\n",
    "from flax import linen as nn\n",
    "import math\n",
    "import einops\n",
    "import time\n",
    "import optax\n",
    "import utils.config as config_lib\n",
    "\n",
    "import datasets as dataset_lib\n",
    "import utils.logging as loglib"
   ]
  },
  {
   "cell_type": "code",
   "execution_count": 3,
   "metadata": {},
   "outputs": [
    {
     "name": "stderr",
     "output_type": "stream",
     "text": [
      "No GPU/TPU found, falling back to CPU. (Set TF_CPP_MIN_LOG_LEVEL=0 and rerun for more info.)\n"
     ]
    }
   ],
   "source": [
    "batch_size = 128\n",
    "dimension = 2\n",
    "dataset_name = dataset_lib.MOON\n",
    "\n",
    "# diffusion\n",
    "T_max = 1.0\n",
    "# t_0 = 1e-4\n",
    "num_timesteps = 1000\n",
    "\n",
    "\n",
    "seed = 42\n",
    "rng = jax.random.PRNGKey(seed)\n",
    "num_training_iterations = 10_000\n",
    "ema_rate = 0.99\n",
    "num_devices = jax.local_device_count()\n"
   ]
  },
  {
   "cell_type": "code",
   "execution_count": 4,
   "metadata": {},
   "outputs": [],
   "source": [
    "beta = 1.\n",
    "M = 1.\n",
    "gamma = 0.1\n",
    "Gamma = 2*M**0.5\n",
    "BETA = lambda t : t*beta\n",
    "Sigma_xx_0 = 0.\n",
    "Sigma_vv_0 = gamma*M\n",
    "Sigma_xx = lambda t : Sigma_xx_0 + jnp.exp(4*BETA(t)/Gamma) - 1 + 4*BETA(t)/Gamma*(Sigma_xx_0 - 1) + 4*(BETA(t)/Gamma)**2*(Sigma_xx_0 - 2) + 16*BETA(t)**2/Gamma**4*Sigma_vv_0\n",
    "Sigma_xv = lambda t : -BETA(t)*Sigma_xx_0 + 4*BETA(t)/Gamma**2*Sigma_vv_0 - 2*BETA(t)**2/Gamma*(Sigma_xx_0 - 2) - 8*BETA(t)**2/Gamma**3*Sigma_vv_0\n",
    "Sigma_vv = lambda t : Gamma**2/4*(jnp.exp(4*BETA(t)/Gamma) - 1) + BETA(t)*Gamma + Sigma_vv_0*(1 + 4*(BETA(t)/Gamma)**2 - 4*BETA(t)/Gamma) + BETA(t)**2*(Sigma_xx_0 - 2)\n",
    "\n",
    "l_HSM = lambda t : jnp.sqrt( Sigma_xx(t)/(Sigma_xx(t)*Sigma_vv(t) - Sigma_xv(t)**2) )\n",
    "\n",
    "L_Cholesky = lambda t : jnp.array([ [jnp.sqrt(Sigma_xx(t)) , jnp.zeros( t.shape ) ] , [ Sigma_xv(t)/jnp.sqrt(Sigma_xx(t)) , jnp.sqrt( (Sigma_xx(t)*Sigma_vv(t) - Sigma_xv(t)**2)/Sigma_xx(t) ) ]]).transpose((2,0,1))\n",
    "\n",
    "# mu for DSM\n",
    "# def mu(t,x_0,v_0) :\n",
    "#     return jnp.concatenate([ 2*BETA(t)/Gamma*x_0 + 4*BETA(t)/Gamma**2*v_0 + x_0 , -BETA(t)*x_0 - 2*BETA(t)/Gamma*v_0 + v_0 ], axis = -1 )*jnp.exp(-2*BETA(t)/Gamma)\n",
    "\n",
    "# mu for HSM (v_0 = 0)\n",
    "def mu_HSM(t_batch,x_0_batch) :\n",
    "    batch_size = x_0_batch.shape[0]\n",
    "    x_0 = x_0_batch\n",
    "    t = t_batch.flatten()\n",
    "\n",
    "    # shapes give (2, batch) (batch, dim,1) (batch)  -> (batch, 2, dim, 1) \n",
    "    return jnp.array([ 2*BETA(t)/Gamma + 1 , -BETA(t) ]).T.reshape((batch_size,2,1,1))*x_0.reshape((batch_size,1,dimension,1))*jnp.exp(-2*BETA(t)/Gamma).reshape((batch_size,1,1,1))\n"
   ]
  },
  {
   "cell_type": "code",
   "execution_count": 5,
   "metadata": {},
   "outputs": [
    {
     "data": {
      "text/plain": [
       "Array([[[2.202646e+04, 0.000000e+00],\n",
       "        [8.671389e-03, 2.202646e+04]]], dtype=float32)"
      ]
     },
     "execution_count": 5,
     "metadata": {},
     "output_type": "execute_result"
    }
   ],
   "source": [
    "L_Cholesky(jnp.array([10]))"
   ]
  },
  {
   "cell_type": "code",
   "execution_count": 6,
   "metadata": {},
   "outputs": [],
   "source": [
    "# Those are COPY PASTE \n",
    "\n",
    "def get_timestep_embedding(timesteps, embedding_dim, max_positions=10000):\n",
    "    assert len(timesteps.shape) == 1, f\"t shape: {len(timesteps.shape)}\"\n",
    "    # and timesteps.dtype == tf.int32\n",
    "    half_dim = embedding_dim // 2\n",
    "    # magic number 10000 is from transformers\n",
    "    emb = math.log(max_positions) / (half_dim - 1)\n",
    "    # emb = math.log(2.) / (half_dim - 1)\n",
    "    emb = jnp.exp(jnp.arange(half_dim, dtype=jnp.float32) * -emb)\n",
    "    # emb = tf.range(num_embeddings, dtype=jnp.float32)[:, None] * emb[None, :]\n",
    "    # emb = tf.cast(timesteps, dtype=jnp.float32)[:, None] * emb[None, :]\n",
    "    emb = timesteps[:, None] * emb[None, :]\n",
    "    emb = jnp.concatenate([jnp.sin(emb), jnp.cos(emb)], axis=1)\n",
    "    if embedding_dim % 2 == 1:  # zero pad\n",
    "        emb = jnp.pad(emb, [[0, 0], [0, 1]])\n",
    "    assert emb.shape == (timesteps.shape[0], embedding_dim)\n",
    "    return emb\n",
    "\n",
    "class FCBlock(nn.Module):\n",
    "    hidden_layer: int = 128\n",
    "    num_layers: int = 3\n",
    "    activation: nn.Module = nn.relu\n",
    "    out_dim: int = 32\n",
    "\n",
    "    @nn.compact\n",
    "    def __call__(self, x):\n",
    "        for i in range(self.num_layers):\n",
    "            x = nn.Dense(self.hidden_layer, name=\"fc{0}\".format(i))(x)\n",
    "            x = self.activation(x)\n",
    "\n",
    "        x = nn.Dense(self.out_dim, name=\"fc_final\")(x)\n",
    "        return x"
   ]
  },
  {
   "cell_type": "code",
   "execution_count": 7,
   "metadata": {},
   "outputs": [],
   "source": [
    "def real_time(t_index) :\n",
    "    return( t_index*1.0/num_timesteps)\n",
    "\n",
    "def real_time_dt(t_index) :\n",
    "    return( jnp.zeros(t_index.shape) + 1.0/num_timesteps)\n",
    "\n",
    "class MLPDiffusionModel_CLD(nn.Module):\n",
    "    t_pos_dim: int = 128\n",
    "    t_embed_dim: int = 128\n",
    "    x_embed_dim: int = 128\n",
    "    v_embed_dim: int = 128\n",
    "    joint_hidden_dim: int = 128\n",
    "\n",
    "    @nn.compact\n",
    "    def __call__(\n",
    "        self,\n",
    "        u: jnp.ndarray,\n",
    "        t: jnp.ndarray,\n",
    "        # cond: jnp.ndarray = None,\n",
    "        # train: bool = False,\n",
    "    ):\n",
    "        \n",
    "        batch_size = u.shape[0]\n",
    "        x = u[...,0,0]\n",
    "        v = u[...,1,0]\n",
    "        out_dim = x.shape[-1]\n",
    "\n",
    "        print('t',t.shape)\n",
    "        print('x',x.shape)\n",
    "\n",
    "        t_emb = get_timestep_embedding(t, embedding_dim=self.t_pos_dim)\n",
    "        print(\"t_embt_emb\",t_emb.shape)\n",
    "        t_emb = FCBlock(hidden_layer=self.t_embed_dim, out_dim=self.t_embed_dim)(t_emb)\n",
    "        x_emb = FCBlock(hidden_layer=self.x_embed_dim, out_dim=self.x_embed_dim)(x)\n",
    "        v_emb = FCBlock(hidden_layer=self.x_embed_dim, out_dim=self.x_embed_dim)(v)\n",
    "        emb = jnp.concatenate([x_emb, t_emb, v_emb], axis=-1)\n",
    "\n",
    "        vec = FCBlock(hidden_layer=self.joint_hidden_dim, out_dim=out_dim)(emb)\n",
    "\n",
    "        vec = v/((l_HSM( real_time(t) )*Sigma_vv( real_time(t) )).reshape((batch_size,1))) + vec\n",
    "\n",
    "\n",
    "        return vec\n",
    "    \n",
    "\n",
    "def get_random_positions(batch, epsilon,t) :\n",
    "    # batch shape is (batch_size, 2,1)\n",
    "    # (batch, 2, dim, 1)  + [ (batch, 2,2) @ (batch,dim ,2,1) -> (batch, 2, dim, 1) ]\n",
    "    \n",
    "    return mu_HSM(t,batch) + (L_Cholesky(t).reshape((batch_size,1,2,2))@epsilon.reshape((batch_size,dimension,2,1))).transpose((0,2,1,3))\n",
    "\n",
    "    \n",
    "    "
   ]
  },
  {
   "attachments": {},
   "cell_type": "markdown",
   "metadata": {},
   "source": [
    "est ce que l'input du model doit tjr avoir les mêmes shape ? ça expliquerait beaucoup parce que du coup le truc fait un truc du shape du batch même quand j'envoit un seul élément "
   ]
  },
  {
   "cell_type": "code",
   "execution_count": null,
   "metadata": {},
   "outputs": [],
   "source": []
  },
  {
   "cell_type": "code",
   "execution_count": 8,
   "metadata": {},
   "outputs": [
    {
     "name": "stdout",
     "output_type": "stream",
     "text": [
      "t (1,)\n",
      "x (1, 2)\n",
      "t_embt_emb (1, 128)\n"
     ]
    }
   ],
   "source": [
    "\n",
    "\n",
    "model = MLPDiffusionModel_CLD()\n",
    "# batch = jnp.ones((batch_size, 2,1)) # the last dimension allows easy matrix multiplication on every point\n",
    "# t = jnp.zeros(batch_size).flatten()\n",
    "# parameters = model.init(jax.random.PRNGKey(0), batch, t )\n",
    "\n",
    "# init training state\n",
    "# --------------------------------------------\n",
    "data_shape = (2,dimension,1)\n",
    "dummy_x = jnp.ones((1, *data_shape))\n",
    "dummy_t = jnp.ones((1,))\n",
    "rng, init_rng = jax.random.split(rng)\n",
    "\n",
    "\n",
    "optimizer_config = config_lib.Config(learning_rate=2e-4) # 2e-4 #, b1=0.9, b2=0.999, eps=1e-8)\n",
    "optimizer = optax.adam(**optimizer_config.as_dict())\n",
    "model_vars = model.init(rng, dummy_x, dummy_t)\n",
    "model_state, params = model_vars.pop(\"params\")\n",
    "opt_state = optimizer.init(params)\n",
    "\n",
    "@jax.jit\n",
    "def loss(parameters, key, batch, t) :\n",
    "\n",
    "    epsilon = random.normal(key, shape = (batch_size, 2*dimension))\n",
    "    batch = get_random_positions(batch, epsilon, real_time(t))\n",
    "\n",
    "    model_return = model.apply({'params': parameters}, batch, t)\n",
    "    # (batch,d) - (batch,d)\n",
    "    return(jnp.sum( (epsilon[:,dimension:2*dimension] - model_return )**2) )"
   ]
  },
  {
   "cell_type": "code",
   "execution_count": 9,
   "metadata": {},
   "outputs": [],
   "source": [
    "# Set up\n",
    "# --------------------------------------------\n",
    "# --------------------------------------------\n",
    "\n",
    "# data\n",
    "# --------------------------------------------\n",
    "train_ds, eval_ds = dataset_lib.get_dataset(\n",
    "    dataset_name,\n",
    "    train_batch_size=batch_size,\n",
    "    eval_batch_size=batch_size,\n",
    "    num_jit_steps=None,\n",
    "    image_size=None,\n",
    "    random_flip=None,\n",
    "    data_category=None,\n",
    "    uniform_dequantization=False,\n",
    "    num_two_dim_samples=10_000,\n",
    ")\n",
    "train_iter = iter(train_ds)\n",
    "\n",
    "# set up data transform\n",
    "transform_fn = lambda x: x"
   ]
  },
  {
   "cell_type": "code",
   "execution_count": 10,
   "metadata": {},
   "outputs": [
    {
     "name": "stdout",
     "output_type": "stream",
     "text": [
      "t (128,)\n",
      "x (128, 2)\n",
      "t_embt_emb (128, 128)\n",
      "iteration: 0 - loss: 155.080856 - runtime: 1.796844\n",
      "iteration: 500 - loss: 63.450169 - runtime: 13.883602\n",
      "iteration: 1000 - loss: 70.513092 - runtime: 26.465969\n",
      "iteration: 1500 - loss: 61.076096 - runtime: 38.895651\n",
      "iteration: 2000 - loss: 84.753540 - runtime: 51.401557\n",
      "iteration: 2500 - loss: 88.235168 - runtime: 65.501423\n",
      "iteration: 3000 - loss: 75.912392 - runtime: 78.531522\n",
      "iteration: 3500 - loss: 80.845352 - runtime: 91.123184\n",
      "iteration: 4000 - loss: 61.361568 - runtime: 103.753968\n",
      "iteration: 4500 - loss: 63.920559 - runtime: 116.949963\n",
      "iteration: 5000 - loss: 54.814156 - runtime: 130.305853\n",
      "iteration: 5500 - loss: 76.550140 - runtime: 142.855665\n",
      "iteration: 6000 - loss: 86.130905 - runtime: 155.280860\n",
      "iteration: 6500 - loss: 69.304916 - runtime: 167.906874\n",
      "iteration: 7000 - loss: 68.324150 - runtime: 181.608364\n",
      "iteration: 7500 - loss: 39.052578 - runtime: 194.207784\n",
      "iteration: 8000 - loss: 88.914391 - runtime: 206.847747\n",
      "iteration: 8500 - loss: 75.901909 - runtime: 219.233410\n",
      "iteration: 9000 - loss: 82.256989 - runtime: 231.647367\n",
      "iteration: 9500 - loss: 71.471664 - runtime: 244.031607\n"
     ]
    }
   ],
   "source": [
    "# training loop\n",
    "# --------------------------------------------\n",
    "start_time = time.time()\n",
    "losses = []\n",
    "for it in range(num_training_iterations):\n",
    "    rng, train_rng, time_rng, init_rng = jax.random.split(rng, 4)\n",
    "    batch = jax.tree_map(lambda x: x._numpy(), next(train_iter))\n",
    "    x = batch[\"x\"]\n",
    "    z = transform_fn(x).reshape((batch_size,2,1))\n",
    "\n",
    "    t = random.randint(key = time_rng, shape = (batch_size,) , minval= 1, maxval = num_timesteps)\n",
    "    loss_value, grads = jax.value_and_grad(loss)(params, train_rng, z, t)\n",
    "    # grads = jax.grad(loss)(params, train_rng, z, t)\n",
    "    updates, opt_state = optimizer.update(grads, opt_state)\n",
    "    params = optax.apply_updates(params, updates)\n",
    "    \n",
    "    # metrics\n",
    "    if it % 500 == 0:\n",
    "        losses.append(loss_value)\n",
    "        runtime = time.time() - start_time\n",
    "        # train_state = flax.jax_utils.unreplicate(pstate)\n",
    "        \n",
    "        print_metrics = {\"iteration\": it, \"loss\": loss_value, \"runtime\": runtime}\n",
    "        loglib.print_metrics(print_metrics)"
   ]
  },
  {
   "cell_type": "code",
   "execution_count": 11,
   "metadata": {},
   "outputs": [],
   "source": [
    "def score(u,t_indexes) :\n",
    "    print(\"lalalalalal\", t_indexes.shape)\n",
    "    return( - l_HSM(real_time(t_indexes))*model.apply( {'params': params} , u ,t) )\n",
    "\n"
   ]
  },
  {
   "cell_type": "code",
   "execution_count": 12,
   "metadata": {},
   "outputs": [],
   "source": [
    "# def Euler_probability_flow_step(u , f , G , score_func , t_index ) :\n",
    "#     # convention is : T corresponds to the time of the prior distrib p_T and t=0 corresponds to data distrib p_0\n",
    "#     t = real_time(t_index)\n",
    "#     return( -f(u, t) + 0.5*G(u,t)@G(u,t).T@score_func(u,t) )\n",
    "\n",
    "# def Euler_probability_flow_generator(x_T , f , G , score_func , num_timesteps= num_timesteps) :\n",
    "\n",
    "#     def f(u,t_index) :\n",
    "#         return (Euler_probability_flow_step(u , f , G , score_func , t_index ),None) # must return a second argument, can be None\n",
    "#     f_jitted = jax.jit(f)\n",
    "\n",
    "#     x_0,_ = jax.lax.scan( f_jitted , init = x_T, xs = jnp.array(range(num_timesteps,0,-1)) ) # remember that the score is defined from t_index =1 not from t_index = 0\n",
    "#     return x_0\n"
   ]
  },
  {
   "cell_type": "code",
   "execution_count": 13,
   "metadata": {},
   "outputs": [],
   "source": [
    "def vectorize_arrays(arrays) :\n",
    "    result = jnp.array([])\n",
    "    shapes = []\n",
    "    for i in range(len(arrays)) :\n",
    "        shapes.append(arrays[i].shape)\n",
    "        result = jnp.concatenate( (result , arrays[i].flatten()), axis = 0 ) \n",
    "    return(result,shapes)\n",
    "\n",
    "def unvectorize_arrays(vector,shapes) :\n",
    "    lengths = [ jnp.prod(jnp.array(shapes[i])) for i in range(len(shapes))]\n",
    "    cum_sum_lengths = jnp.cumsum(jnp.array([0] + lengths))\n",
    "    arrays = [ vector[cum_sum_lengths[i] : cum_sum_lengths[i+1]].reshape[shapes[i]] for i in range(len(cum_sum_lengths)-1) ]\n",
    "    return(arrays)\n",
    "    \n"
   ]
  },
  {
   "cell_type": "code",
   "execution_count": 14,
   "metadata": {},
   "outputs": [],
   "source": [
    "def Euler_probability_flow_step(u , score_func , t_index_gauss_noise ) :\n",
    "    # convention is : T corresponds to the time of the prior distrib p_T and t=0 corresponds to data distrib p_0\n",
    "    # here u is shape (2,1)\n",
    "    x = u[:,0].squeeze()\n",
    "    v = u[:,1].squeeze()\n",
    "\n",
    "    # t_index = t_index_gauss_noise[\"t_index\"]\n",
    "    # gauss_noise = t_index_gauss_noise[\"gauss_noise\"]\n",
    "    \n",
    "    # (t_index,gauss_noise) = unvectorize_arrays(vector = t_index_gauss_noise ,shapes = [ (1,1) , (batch_size,2,1) ])\n",
    "    t_index = t_index_gauss_noise[0].reshape((1,1))\n",
    "    print('ici ???', t_index.shape)\n",
    "    gauss_noise = t_index_gauss_noise[1:].reshape((batch_size, dimension))\n",
    "\n",
    "    t = real_time(t_index)\n",
    "    print(\"la ???\", t.shape)\n",
    "    dt = real_time_dt(t_index)\n",
    "\n",
    "    print(\"v\",v.shape)\n",
    "    print(\"score_func(u,t\",score_func(u,t).shape)\n",
    "    print(\"beta\",beta)\n",
    "\n",
    "    # score function : (batch,dim)\n",
    "    # v : (batch,dim,1)\n",
    "    print(\"tttt_indexx\", t_index.shape)\n",
    "    C1 = jnp.array( [ [-v/M*beta*dt] , [ (x*beta + Gamma*(score_func(u,t_index) + v/M))*beta*dt  + jnp.sqrt(2*Gamma*beta*dt)*gauss_noise ] ] ).transpose((2,0,3,1 ))  # REVOIR il manque le bruit !!!!!\n",
    "\n",
    "    print(C1)\n",
    "    print(\"C1\",C1.shape)\n",
    "    print(\"dt\",dt.shape)\n",
    "    values = C1\n",
    "    \n",
    "    # \n",
    "    return( C1, values )\n",
    "\n",
    "\n",
    "# def Euler_probability_flow_step(u , score_func , t_index ) :\n",
    "#     # convention is : T corresponds to the time of the prior distrib p_T and t=0 corresponds to data distrib p_0\n",
    "#     t = real_time(t_index)\n",
    "#     dt = real_time_dt(t_index)\n",
    "#     return(  )\n",
    "\n",
    "# Euler_probability_flow_step = jax.vmap(Euler_probability_flow_step_one_axis, in_axes= (0,None,None), out_axes=0, axis_name=None, axis_size=None, spmd_axis_name=None)\n",
    "Euler_probability_flow_step_batch = jax.vmap(Euler_probability_flow_step, in_axes= (0,None,None), out_axes=0, axis_name=None, axis_size=None, spmd_axis_name=None)\n",
    "\n",
    "def Euler_probability_flow_generator( u_T , score_func , num_timesteps= num_timesteps ) :\n",
    "\n",
    "    def f(u,t_index_gauss_noise) :\n",
    "        return Euler_probability_flow_step(u , score_func ,  t_index_gauss_noise ) # must return a second argument, can be None\n",
    "    f_jitted = f # jax.jit(f) REVOIR \n",
    "\n",
    "    rng = jax.random.PRNGKey(seed+1)\n",
    "    gauss_noise = jax.random.normal(key = rng, shape=(num_timesteps, batch_size, dimension,1))\n",
    "    t_index =  jnp.broadcast_to(array = jnp.array(range(num_timesteps,0,-1)).reshape((1,-1,1)) , shape = (batch_size,num_timesteps,1) )\n",
    "    xs = [ jnp.concatenate( [t_index[i].flatten(),gauss_noise[i].flatten() ], axis = 0) for i in range(num_timesteps) ]\n",
    "    xs = jnp.array(xs)\n",
    "    \n",
    "    x_0, values = jax.lax.scan( f_jitted , init = u_T, xs = xs ) # remember that the score is defined from t_index =1 not from t_index = 0\n",
    "\n",
    "    print(\"values\", values)\n",
    "    return x_0"
   ]
  },
  {
   "cell_type": "code",
   "execution_count": 15,
   "metadata": {},
   "outputs": [
    {
     "ename": "AttributeError",
     "evalue": "'ArrayImpl' object has no attribute 'broadcast_to'",
     "output_type": "error",
     "traceback": [
      "\u001b[0;31m---------------------------------------------------------------------------\u001b[0m",
      "\u001b[0;31mAttributeError\u001b[0m                            Traceback (most recent call last)",
      "Cell \u001b[0;32mIn[15], line 4\u001b[0m\n\u001b[1;32m      1\u001b[0m rng \u001b[39m=\u001b[39m jax\u001b[39m.\u001b[39mrandom\u001b[39m.\u001b[39mPRNGKey(seed\u001b[39m+\u001b[39m\u001b[39m2\u001b[39m)\n\u001b[1;32m      2\u001b[0m u_T \u001b[39m=\u001b[39m  jax\u001b[39m.\u001b[39mrandom\u001b[39m.\u001b[39mnormal(key \u001b[39m=\u001b[39m rng, shape \u001b[39m=\u001b[39m(\u001b[39m128\u001b[39m,\u001b[39m2\u001b[39m,\u001b[39m2\u001b[39m,\u001b[39m1\u001b[39m))\n\u001b[0;32m----> 4\u001b[0m x \u001b[39m=\u001b[39m Euler_probability_flow_generator(u_T \u001b[39m=\u001b[39;49m u_T , score_func \u001b[39m=\u001b[39;49m score , num_timesteps\u001b[39m=\u001b[39;49m num_timesteps)\n",
      "Cell \u001b[0;32mIn[14], line 54\u001b[0m, in \u001b[0;36mEuler_probability_flow_generator\u001b[0;34m(u_T, score_func, num_timesteps)\u001b[0m\n\u001b[1;32m     52\u001b[0m rng \u001b[39m=\u001b[39m jax\u001b[39m.\u001b[39mrandom\u001b[39m.\u001b[39mPRNGKey(seed\u001b[39m+\u001b[39m\u001b[39m1\u001b[39m)\n\u001b[1;32m     53\u001b[0m gauss_noise \u001b[39m=\u001b[39m jax\u001b[39m.\u001b[39mrandom\u001b[39m.\u001b[39mnormal(key \u001b[39m=\u001b[39m rng, shape\u001b[39m=\u001b[39m(num_timesteps, batch_size, dimension,\u001b[39m1\u001b[39m))\n\u001b[0;32m---> 54\u001b[0m t_index \u001b[39m=\u001b[39m jnp\u001b[39m.\u001b[39;49marray(\u001b[39mrange\u001b[39;49m(num_timesteps,\u001b[39m0\u001b[39;49m,\u001b[39m-\u001b[39;49m\u001b[39m1\u001b[39;49m))\u001b[39m.\u001b[39;49mreshape((\u001b[39m1\u001b[39;49m,\u001b[39m-\u001b[39;49m\u001b[39m1\u001b[39;49m,\u001b[39m1\u001b[39;49m))\u001b[39m.\u001b[39;49mbroadcast_to( shape \u001b[39m=\u001b[39m (batch_size,num_timesteps,\u001b[39m1\u001b[39m) )\n\u001b[1;32m     55\u001b[0m xs \u001b[39m=\u001b[39m [ jnp\u001b[39m.\u001b[39mconcatenate( [t_index[i]\u001b[39m.\u001b[39mflatten(),gauss_noise[i]\u001b[39m.\u001b[39mflatten() ], axis \u001b[39m=\u001b[39m \u001b[39m0\u001b[39m) \u001b[39mfor\u001b[39;00m i \u001b[39min\u001b[39;00m \u001b[39mrange\u001b[39m(num_timesteps) ]\n\u001b[1;32m     56\u001b[0m xs \u001b[39m=\u001b[39m jnp\u001b[39m.\u001b[39marray(xs)\n",
      "\u001b[0;31mAttributeError\u001b[0m: 'ArrayImpl' object has no attribute 'broadcast_to'"
     ]
    }
   ],
   "source": [
    "rng = jax.random.PRNGKey(seed+2)\n",
    "u_T =  jax.random.normal(key = rng, shape =(128,2,2,1))\n",
    "\n",
    "x = Euler_probability_flow_generator(u_T = u_T , score_func = score , num_timesteps= num_timesteps)"
   ]
  },
  {
   "cell_type": "code",
   "execution_count": null,
   "metadata": {},
   "outputs": [],
   "source": [
    "# article : flow matching doesn't use stochastic  \n",
    "\n",
    "import matplotlib.pyplot as plt"
   ]
  },
  {
   "cell_type": "code",
   "execution_count": null,
   "metadata": {},
   "outputs": [
    {
     "name": "stdout",
     "output_type": "stream",
     "text": [
      "(128, 2, 2, 1)\n"
     ]
    }
   ],
   "source": [
    "print(x.shape)"
   ]
  },
  {
   "cell_type": "code",
   "execution_count": null,
   "metadata": {},
   "outputs": [
    {
     "data": {
      "text/plain": [
       "[<matplotlib.lines.Line2D at 0x7f4fcc6eec50>]"
      ]
     },
     "execution_count": 19,
     "metadata": {},
     "output_type": "execute_result"
    },
    {
     "data": {
      "image/png": "[encoded data removed]",
      "text/plain": [
       "<Figure size 640x480 with 1 Axes>"
      ]
     },
     "metadata": {},
     "output_type": "display_data"
    }
   ],
   "source": [
    "plot_x = x[:,0,:,0]\n",
    "plt.plot(plot_x[ :,0], plot_x[:,1], 'rx')"
   ]
  },
  {
   "cell_type": "code",
   "execution_count": null,
   "metadata": {},
   "outputs": [],
   "source": [
    "import numpy as np"
   ]
  },
  {
   "cell_type": "code",
   "execution_count": null,
   "metadata": {},
   "outputs": [
    {
     "ename": "TypeError",
     "evalue": "score() got an unexpected keyword argument 'x'",
     "output_type": "error",
     "traceback": [
      "\u001b[0;31m---------------------------------------------------------------------------\u001b[0m",
      "\u001b[0;31mTypeError\u001b[0m                                 Traceback (most recent call last)",
      "Cell \u001b[0;32mIn[21], line 15\u001b[0m\n\u001b[1;32m     12\u001b[0m \u001b[39mfor\u001b[39;00m t \u001b[39min\u001b[39;00m jnp\u001b[39m.\u001b[39marange(t_0, T_max, T_max\u001b[39m/\u001b[39m\u001b[39m10\u001b[39m):\n\u001b[1;32m     14\u001b[0m     t \u001b[39m=\u001b[39m jnp\u001b[39m.\u001b[39mones(network_input\u001b[39m.\u001b[39mshape[\u001b[39m0\u001b[39m])\u001b[39m*\u001b[39mt\n\u001b[0;32m---> 15\u001b[0m     score \u001b[39m=\u001b[39m score_fn(x\u001b[39m=\u001b[39;49mnetwork_input, t\u001b[39m=\u001b[39;49mt)\n\u001b[1;32m     16\u001b[0m     dx, dy \u001b[39m=\u001b[39m jnp\u001b[39m.\u001b[39msplit(score, \u001b[39m2\u001b[39m, axis\u001b[39m=\u001b[39m\u001b[39m-\u001b[39m\u001b[39m1\u001b[39m)\n\u001b[1;32m     17\u001b[0m     plt\u001b[39m.\u001b[39mquiver(flat_x, flat_y,dx,dy)\n",
      "\u001b[0;31mTypeError\u001b[0m: score() got an unexpected keyword argument 'x'"
     ]
    }
   ],
   "source": [
    "grid_w = 1\n",
    "res = 50\n",
    "x,y = jnp.meshgrid(np.linspace(-grid_w,grid_w,res),np.linspace(-grid_w,grid_w,res))\n",
    "x.shape, y.shape\n",
    "flat_x = einops.rearrange(x, 'a b -> (a b)')\n",
    "flat_y = einops.rearrange(y, 'a b -> (a b)')\n",
    "network_input = jnp.stack([flat_x, flat_y], -1)\n",
    "\n",
    "t_0 = 0.01\n",
    "score_fn = score\n",
    "\n",
    "for t in jnp.arange(t_0, T_max, T_max/10):\n",
    "\n",
    "    t = jnp.ones(network_input.shape[0])*t\n",
    "    score = score_fn(x=network_input, t=t)\n",
    "    dx, dy = jnp.split(score, 2, axis=-1)\n",
    "    plt.quiver(flat_x, flat_y,dx,dy)\n",
    "    plt.show()"
   ]
  },
  {
   "cell_type": "code",
   "execution_count": null,
   "metadata": {},
   "outputs": [],
   "source": []
  },
  {
   "cell_type": "code",
   "execution_count": null,
   "metadata": {},
   "outputs": [],
   "source": []
  },
  {
   "cell_type": "code",
   "execution_count": null,
   "metadata": {},
   "outputs": [],
   "source": []
  },
  {
   "cell_type": "code",
   "execution_count": null,
   "metadata": {},
   "outputs": [],
   "source": []
  },
  {
   "cell_type": "code",
   "execution_count": null,
   "metadata": {},
   "outputs": [],
   "source": []
  },
  {
   "cell_type": "code",
   "execution_count": null,
   "metadata": {},
   "outputs": [],
   "source": []
  },
  {
   "cell_type": "code",
   "execution_count": null,
   "metadata": {},
   "outputs": [],
   "source": []
  },
  {
   "cell_type": "code",
   "execution_count": null,
   "metadata": {},
   "outputs": [],
   "source": []
  },
  {
   "cell_type": "code",
   "execution_count": null,
   "metadata": {},
   "outputs": [],
   "source": []
  },
  {
   "cell_type": "code",
   "execution_count": null,
   "metadata": {},
   "outputs": [],
   "source": []
  },
  {
   "cell_type": "code",
   "execution_count": null,
   "metadata": {},
   "outputs": [],
   "source": []
  },
  {
   "cell_type": "code",
   "execution_count": null,
   "metadata": {},
   "outputs": [],
   "source": []
  },
  {
   "cell_type": "code",
   "execution_count": null,
   "metadata": {},
   "outputs": [],
   "source": []
  },
  {
   "cell_type": "code",
   "execution_count": null,
   "metadata": {},
   "outputs": [],
   "source": []
  },
  {
   "cell_type": "code",
   "execution_count": null,
   "metadata": {},
   "outputs": [],
   "source": []
  },
  {
   "cell_type": "code",
   "execution_count": null,
   "metadata": {},
   "outputs": [],
   "source": []
  },
  {
   "cell_type": "code",
   "execution_count": null,
   "metadata": {},
   "outputs": [],
   "source": []
  },
  {
   "cell_type": "code",
   "execution_count": null,
   "metadata": {},
   "outputs": [],
   "source": []
  },
  {
   "cell_type": "code",
   "execution_count": null,
   "metadata": {},
   "outputs": [],
   "source": []
  },
  {
   "cell_type": "code",
   "execution_count": null,
   "metadata": {},
   "outputs": [],
   "source": []
  },
  {
   "cell_type": "code",
   "execution_count": null,
   "metadata": {},
   "outputs": [],
   "source": []
  },
  {
   "cell_type": "code",
   "execution_count": null,
   "metadata": {},
   "outputs": [],
   "source": []
  },
  {
   "cell_type": "code",
   "execution_count": null,
   "metadata": {},
   "outputs": [],
   "source": []
  },
  {
   "cell_type": "code",
   "execution_count": null,
   "metadata": {},
   "outputs": [],
   "source": []
  },
  {
   "cell_type": "code",
   "execution_count": null,
   "metadata": {},
   "outputs": [],
   "source": []
  },
  {
   "cell_type": "code",
   "execution_count": null,
   "metadata": {},
   "outputs": [],
   "source": []
  }
 ],
 "metadata": {
  "kernelspec": {
   "display_name": "base",
   "language": "python",
   "name": "python3"
  },
  "language_info": {
   "codemirror_mode": {
    "name": "ipython",
    "version": 3
   },
   "file_extension": ".py",
   "mimetype": "text/x-python",
   "name": "python",
   "nbconvert_exporter": "python",
   "pygments_lexer": "ipython3",
   "version": "3.10.9"
  },
  "orig_nbformat": 4
 },
 "nbformat": 4,
 "nbformat_minor": 2
}
